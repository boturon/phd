{
 "cells": [
  {
   "cell_type": "code",
   "execution_count": 1,
   "metadata": {},
   "outputs": [],
   "source": [
    "import os,sys,shutil,re,glob"
   ]
  },
  {
   "cell_type": "code",
   "execution_count": 29,
   "metadata": {},
   "outputs": [
    {
     "data": {
      "text/plain": [
       "['ar/horiz_0/dataspec_old.yaml',\n",
       " 'ar/horiz_12/dataspec_old.yaml',\n",
       " 'ar/horiz_3/dataspec_old.yaml',\n",
       " 'ar/horiz_6/dataspec_old.yaml',\n",
       " 'ar/horiz_9/dataspec_old.yaml',\n",
       " 'CONV/horiz_0/dataspec_old.yaml',\n",
       " 'CONV/horiz_12/dataspec_old.yaml',\n",
       " 'CONV/horiz_3/dataspec_old.yaml',\n",
       " 'CONV/horiz_6/dataspec_old.yaml',\n",
       " 'CONV/horiz_9/dataspec_old.yaml',\n",
       " 'encdec/horiz_0/dataspec_old.yaml',\n",
       " 'encdec/horiz_12/dataspec_old.yaml',\n",
       " 'encdec/horiz_3/dataspec_old.yaml',\n",
       " 'encdec/horiz_6/dataspec_old.yaml',\n",
       " 'encdec/horiz_9/dataspec_old.yaml',\n",
       " 'lstm/horiz_0/dataspec_old.yaml',\n",
       " 'lstm/horiz_12/dataspec_old.yaml',\n",
       " 'lstm/horiz_3/dataspec_old.yaml',\n",
       " 'lstm/horiz_6/dataspec_old.yaml',\n",
       " 'lstm/horiz_9/dataspec_old.yaml']"
      ]
     },
     "execution_count": 29,
     "metadata": {},
     "output_type": "execute_result"
    }
   ],
   "source": [
    "x=glob.glob('**/**/*_old*')\n",
    "x"
   ]
  },
  {
   "cell_type": "code",
   "execution_count": 30,
   "metadata": {},
   "outputs": [
    {
     "data": {
      "text/plain": [
       "[None,\n",
       " None,\n",
       " None,\n",
       " None,\n",
       " None,\n",
       " None,\n",
       " None,\n",
       " None,\n",
       " None,\n",
       " None,\n",
       " None,\n",
       " None,\n",
       " None,\n",
       " None,\n",
       " None,\n",
       " None,\n",
       " None,\n",
       " None,\n",
       " None,\n",
       " None]"
      ]
     },
     "execution_count": 30,
     "metadata": {},
     "output_type": "execute_result"
    }
   ],
   "source": [
    "[os.remove(i) for i in x]"
   ]
  },
  {
   "cell_type": "code",
   "execution_count": 19,
   "metadata": {},
   "outputs": [],
   "source": [
    "m=re.compile('.*(ar|lstm|CONV|encdec).*(horiz.+)')\n",
    "for i in x:\n",
    "    shutil.move(i,os.path.join(*list(*m.findall(i))))"
   ]
  }
 ],
 "metadata": {
  "kernelspec": {
   "display_name": "Python 3",
   "language": "python",
   "name": "python3"
  },
  "language_info": {
   "codemirror_mode": {
    "name": "ipython",
    "version": 3
   },
   "file_extension": ".py",
   "mimetype": "text/x-python",
   "name": "python",
   "nbconvert_exporter": "python",
   "pygments_lexer": "ipython3",
   "version": "3.6.6"
  }
 },
 "nbformat": 4,
 "nbformat_minor": 2
}
